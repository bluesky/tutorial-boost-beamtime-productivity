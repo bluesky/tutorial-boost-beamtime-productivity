{
 "cells": [
  {
   "cell_type": "code",
   "execution_count": null,
   "metadata": {},
   "outputs": [],
   "source": []
  },
  {
   "cell_type": "markdown",
   "metadata": {},
   "source": [
    "# Boost Beamtime Productivity - NB 1\n",
    "with databroker (V1) and supplemental pandas\n"
   ]
  },
  {
   "cell_type": "markdown",
   "metadata": {},
   "source": [
    "### Goals\n",
    "* Learn the 3 key features of bluesky API to maximize productive with reduced effort\n",
    "* Use scalar values to track the \"pulse\" of your experiment that requires heavy image processing\n",
    "* Exploit databroker V1\n",
    "    * what did my collaborator do while i was asleep\n",
    "    * avoid transcription errors and focus on the science\n",
    "    * reconstruct inherited projects that are poorly documented\n",
    "* Supplement with pandas to reduce \"book-keeping\" errors\n",
    "* Supplement with pandas to make all data easier to interpret\n"
   ]
  },
  {
   "cell_type": "markdown",
   "metadata": {},
   "source": [
    "# The most under-utilized feature in databroker\n",
    "## the start document search </br>  \n",
    "\n",
    "\n",
    "<details>\n",
    "<summary><em>Getting data by scan_id too much trouble - I want to spend my time on science, not book-keeping</em></summary>\n",
    "    <p> \n",
    "            \n",
    "\n",
    "```python\n",
    "db??\n",
    "```\n",
    "\n",
    "```python\n",
    "Call docstring:\n",
    "Search runs based on metadata.\n",
    "\n",
    "This function returns an iterable of :class:`Header` objects. Each\n",
    "Header encapsulates the metadata for a run -- start time, instruments\n",
    "used, and so on, and provides methods for loading the data. In\n",
    "addition to the Parameters below, advanced users can specify arbitrary\n",
    "queries using the MongoDB query syntax.\n",
    "\n",
    "The ``since`` and ``until`` parameters accepts the following\n",
    "representations of time:\n",
    "\n",
    "* timestamps like ``time.time()`` and ``datetime.datetime.now()``\n",
    "* ``'2015'``\n",
    "* ``'2015-01'``\n",
    "* ``'2015-01-30'``\n",
    "* ``'2015-03-30 03:00:00'``\n",
    "```\n",
    "</p>\n",
    "</details> \n",
    "\n",
    "\n",
    "```python\n",
    "hhs = db(since='2021-05-19 13:00:00', plan_name = 'count', purpose ='thermalize') \n",
    "```\n"
   ]
  },
  {
   "cell_type": "markdown",
   "metadata": {},
   "source": [
    "### In the field example on a beamline that I have not used before (5+ years at NSLS-II)\n",
    "**During Setup**: <ins>simple and custom report</ins> based on standard bluesky features\n",
    "<details>\n",
    "<summary><em>Run-report</em></summary>\n",
    "    <p> \n",
    "        <img src=\"source_material/Boost_1_run_report.png\">\n",
    "</p>\n",
    "</details>    </br>\n",
    "\n",
    "**Day 1**: <ins>simple and custom analysis</ins> based on standard bluesky and with custom analysis cells for `db()`search\n",
    "<details>\n",
    "<summary><em>Custom analysis using pure top level databroker fuctions</em></summary> \n",
    "    <p> \n",
    "        <img src=\"source_material/Boost_1_day_1.png\",width=\"500\">\n",
    "</p>\n",
    "</details>  \n",
    "\n",
    "**Day 3**: <ins>found a problem</ins> as it happened, not 3 hours later\n",
    "\n",
    "<details>\n",
    "<summary><em>Custom analysis using pure top level databroker fuctions</em></summary>\n",
    "    <p> \n",
    "        <img src=\"source_material/Boost_1_day_3.png\">\n",
    "</p>\n",
    "</details>  "
   ]
  },
  {
   "cell_type": "markdown",
   "metadata": {},
   "source": [
    "## The three most important things in the bluesky API that made this possible\n",
    "\n",
    "* **bluesky custom metadata** per scan (via bluesky's pre-assembled and stub plans)\n",
    "    - https://blueskyproject.io/bluesky/plans.html\n",
    "\n",
    "    ```python\n",
    "       def my_plan():\n",
    "          for T in temperatures:\n",
    "                yield from mvr(theta, -5)\n",
    "                yield from count([det], num=25, md = {'purpose':'background'})\n",
    "                yield from mvr(theta, 5)\n",
    "                yield from count([det], num=25, md = {'purpose':'signal'})\n",
    "                yield from mv(cryostat_temperature, T)\n",
    "                \n",
    "        RE(my_plan())\n",
    "    ```\n",
    "\n",
    "* **bluesky baseline documents** - values of beamline objects **before** and **after** *each* scan\n",
    "    - https://blueskyproject.io/tutorials/Supplemental%20Data.html#Baseline-Readings\n",
    "    - setup bsui\n",
    "    ```python\n",
    "    sd.baseline = [diffractometer, cryostat_temperature, energy .....]\n",
    "    ```\n",
    "    - in analysis\n",
    "    ```python\n",
    "    db[scan_number].table('baseline')\n",
    "    ```\n",
    "* **ophyd EpicsSignals** - customized for your experiment\n",
    "    - https://blueskyproject.io/tutorials/Epics%20Signal.html\n",
    "    - setup bsui (or in a user script (`%run -i my_experiment_details.py`)\n",
    "    ```python\n",
    "        from ophyd.signal import EpicsSignalRO\n",
    "    \n",
    "        cryostat_sample_temperature = EpicsSignalRO('XF:00ID{ES-TCntl:1}Temp:B-RB',\n",
    "                                                   name = 'cryostat_sample_temperature')\n",
    "        sd.baseline.append([cryostat_sample_temperature])\n",
    "    ```"
   ]
  },
  {
   "cell_type": "code",
   "execution_count": null,
   "metadata": {},
   "outputs": [],
   "source": [
    "from matplotlib import pyplot as plt\n",
    "from matplotlib import cm\n",
    "from itertools import cycle\n",
    "\n",
    "import pandas as pd \n",
    "import numpy as np\n",
    "\n",
    "%run -i run_report.py"
   ]
  },
  {
   "cell_type": "code",
   "execution_count": null,
   "metadata": {},
   "outputs": [],
   "source": [
    "from download_example_data import fetch_example\n",
    "db = fetch_example()"
   ]
  },
  {
   "cell_type": "markdown",
   "metadata": {},
   "source": [
    "## Scenario: Quick investigation of potentially interesting sample\n",
    "* What we know do we know prior to measurements?\n",
    "    * Co L3 edge measurements\n",
    "    * Measurements occurred on **2021-03-20 between 1pm and 11:59pm**\n",
    "* Assumption: measurements looking for interesting things\n",
    "* Critical points for beamline ophyd objects:\n",
    "\n",
    "```\n",
    "    tardis            :: name of diffractometer motors \n",
    "    tardis.delta      :: diffractometer 2-theta motor\n",
    "    fccd              :: main area detector, EPICS AreaDectector ROIs to capture statistics\n",
    "    fccd.stats1.total :: acts as detector slit for `tardis.delta`\n",
    "    fccd.stats4.total :: acts as a TFY detector when fccd is not intercepting a Bragg condition \n",
    "    stemp.temp.A.T    :: cryostat temperature (K)\n",
    "    stemp.temp.B.T    :: sample temperature  (K)\n",
    "    pgm.energy        :: incident beamline energy (eV)\n",
    "    epu2.phase        :: undulator phase for source polarization \n",
    "                            - epu2_phase_readback is BEST\n",
    "                            - LH ( linear horizontal =  0.0 )\n",
    "                            - LV ( linear vertical)  = 24.6 )\n",
    "    sx                :: horizontal positioning of sample (~100um beam with much larger sample)\n",
    "                            - cryostat's thermal expansion is in this direction\n",
    "                            - \"groups\" of sx are likely the \"same\" spot for the \"same\" temperature\n",
    "    \n",
    "    NOTE: fccd.stats are in units of ADU with a dark image applied by the EPICS AD Stats Plugin. \n",
    "          EPICS AD Stats reports integrated intensity for 1 frame.\n",
    "```\n",
    "\n"
   ]
  },
  {
   "cell_type": "code",
   "execution_count": null,
   "metadata": {
    "scrolled": true
   },
   "outputs": [],
   "source": [
    "my_data = print_scans(hhs = db(since = '2021-03-20 14:50:00', until = '2021-03-20 23:50:00', motors='pgm_energy', detectors = 'fccd'))"
   ]
  },
  {
   "cell_type": "code",
   "execution_count": null,
   "metadata": {},
   "outputs": [],
   "source": []
  },
  {
   "cell_type": "code",
   "execution_count": null,
   "metadata": {},
   "outputs": [],
   "source": []
  },
  {
   "cell_type": "code",
   "execution_count": null,
   "metadata": {},
   "outputs": [],
   "source": []
  },
  {
   "cell_type": "code",
   "execution_count": null,
   "metadata": {},
   "outputs": [],
   "source": []
  },
  {
   "cell_type": "code",
   "execution_count": null,
   "metadata": {},
   "outputs": [],
   "source": []
  },
  {
   "cell_type": "markdown",
   "metadata": {},
   "source": [
    "### XAS scans during initial exploration of sample"
   ]
  },
  {
   "cell_type": "code",
   "execution_count": null,
   "metadata": {},
   "outputs": [],
   "source": [
    "hhs = db(since = '2021-03-20 14:50:00', until = '2021-03-20 23:50:00', motors='pgm_energy', detectors = 'fccd')\n",
    "roi = str(4)\n",
    "\n",
    "fig, ax1 = plt.subplots(figsize=(5,5))\n",
    "for h in hhs:\n",
    "    ## COLLECT DATA\n",
    "    purpose = h.start.get('purpose','?')\n",
    "    if purpose[0:3]=='xas':\n",
    "        scan = h.start['scan_id']\n",
    "        t = h.table()\n",
    "        tb = h.table(\"baseline\")\n",
    "        sx = tb['sx'].mean()\n",
    "        Tsample = tb['stemp_temp_B_T'].mean()\n",
    "        phase = round(abs(tb['epu2_phase_readback'].mean()),0)\n",
    "        config_attrs = h.descriptors[0][\"configuration\"][\"fccd\"][\"data\"]\n",
    "        roi_x = config_attrs[\"fccd_roi\" + roi + \"_size_x\"]\n",
    "        roi_y = config_attrs[\"fccd_roi\" + roi + \"_size_y\"]\n",
    "        if phase < 20: phase ='H'\n",
    "        else: phase = 'V'\n",
    "\n",
    "        x = t.pgm_energy_setpoint\n",
    "        y = t['fccd_stats'+roi+'_total']\n",
    "\n",
    "        ## PLOTTING CONTROL\n",
    "        ax1.plot(x, y, label = f'{Tsample:.0f}K roi{roi} {roi_x:>3}x{roi_y:>3} pix$^2$ L{phase} sx={sx:.2f} S{scan}')\n",
    "\n",
    "ax1.legend(bbox_to_anchor=(1.1, 1.05))"
   ]
  },
  {
   "cell_type": "markdown",
   "metadata": {},
   "source": [
    "### Issue 1:\n",
    "* **science 101: graphs have labels**\n",
    "<details>\n",
    "<summary><em>Add generic axis labels by relying on `pandas`</em></summary>\n",
    "    <p> \n",
    "            \n",
    "    ```python\n",
    "    ax1.set(xlabel=x.name,ylabel=y.name)\n",
    "    ```\n",
    "\n",
    "    **CHALLENGE** exercise for the reader: discover `hints` in `header.descriptors[0]`<br>  \n",
    "        * this is contengent of beamline's bluesky profile configuration\n",
    "        * ongoing work to improve usability of recorded units and labels\n",
    "</p>\n",
    "</details> "
   ]
  },
  {
   "cell_type": "code",
   "execution_count": null,
   "metadata": {},
   "outputs": [],
   "source": [
    "## WORKSPACE \n"
   ]
  },
  {
   "cell_type": "markdown",
   "metadata": {},
   "source": [
    "### Issue 2:\n",
    "* **What general things should I turn into functions?** \n",
    "<details>\n",
    "<summary><em>Hint: what is defined outside of flow control?</em></summary>\n",
    "<p>\n",
    "    \n",
    "    ```python\n",
    "        config_attrs = h.descriptors[0][\"configuration\"][\"fccd\"][\"data\"]\n",
    "        roi_x = config_attrs[\"fccd_roi\" + roi + \"_size_x\"]\n",
    "        roi_y = config_attrs[\"fccd_roi\" + roi + \"_size_y\"] \n",
    "    ```\n",
    "    Instead\n",
    "    \n",
    "    ```python\n",
    "       %run -i fccd_image_functions.py\n",
    "       \n",
    "       roi_x, _, roi_y, _, _ = get_fccd_roi(h, 'roi') \n",
    "    ```\n",
    "    \n",
    "</p>\n",
    "</details> "
   ]
  },
  {
   "cell_type": "code",
   "execution_count": null,
   "metadata": {},
   "outputs": [],
   "source": [
    "## WORKSPACE "
   ]
  },
  {
   "cell_type": "markdown",
   "metadata": {},
   "source": [
    "### Issue 3:\n",
    "* **I am tired and cannot invest effort to understand this plot or transcribe these numbers** \n",
    "<details>\n",
    "<summary><em>or save time by making plots ready for the next proposal - what else can pandas do?</em></summary>\n",
    "    <p>\n",
    "        \n",
    "    ```python\n",
    "        \n",
    "    hhs = db(since = '2021-03-20 14:50:00', until = '2021-03-20 23:50:00', \n",
    "                 motors='pgm_energy', detectors = 'fccd')\n",
    "    roi = str(4)\n",
    "    escan_dict = {'temperature': [], 'phase': [], 'sx':[], 'scan':[]}    #### *ANSWER \n",
    "\n",
    "    fig, ax1 = plt.subplots(figsize=(5,5))\n",
    "    for h in hhs:\n",
    "        ## COLLECT DATA\n",
    "        purpose = h.start.get('purpose','?')\n",
    "        if purpose[0:3]=='xas':\n",
    "            scan = h.start['scan_id']\n",
    "            t = h.table()\n",
    "            tb = h.table(\"baseline\")\n",
    "            sx = tb['sx'].mean()\n",
    "            Tsample = tb['stemp_temp_B_T'].mean()\n",
    "            phase = round(abs(tb['epu2_phase_readback'].mean()),0)\n",
    "            _, roi_x, _, roi_y, _  = get_fccd_roi(h, roi)                          #### *ANSWER\n",
    "            if phase < 20: phase ='H'\n",
    "            else: phase = 'V'\n",
    "\n",
    "            x = t.pgm_energy_setpoint\n",
    "            y = t['fccd_stats'+roi+'_total']\n",
    "\n",
    "            ## PLOTTING CONTROL\n",
    "            ax1.plot(x, y, label = f'{Tsample:.0f}K roi{roi} {roi_x:>3}x{roi_y:>3} pix$^2$ L{phase} sx={sx:.2f} S{scan}')\n",
    "            for k,v in zip(escan_dict.keys(), [round(Tsample,0), phase, sx, scan]): #### *ANSWER \n",
    "                escan_dict[k].append(v)                                             #### *ANSWER \n",
    "    ax1.legend(bbox_to_anchor=(1.1, 1.05))\n",
    "    ax1.set(xlabel=x.name,ylabel=y.name) #### *ANSWER \n",
    "\n",
    "    df_xas = pd.DataFrame(escan_dict)    #### *ANSWER \n",
    "    ```\n",
    "</p>\n",
    "</details> \n",
    "\n",
    "* https://pandas.pydata.org/docs/reference/api/pandas.DataFrame.html"
   ]
  },
  {
   "cell_type": "code",
   "execution_count": null,
   "metadata": {},
   "outputs": [],
   "source": [
    "## WORKSPACE -- suggest to copy orignal from above and work on it here"
   ]
  },
  {
   "cell_type": "code",
   "execution_count": null,
   "metadata": {},
   "outputs": [],
   "source": []
  },
  {
   "cell_type": "markdown",
   "metadata": {},
   "source": [
    "### How can we understand the data without transcribing or couting the table like an imaginary abicus?\n",
    "* https://pandas.pydata.org/docs/reference/api/pandas.DataFrame.set_index.html \n",
    "* https://pandas.pydata.org/pandas-docs/stable/reference/api/pandas.DataFrame.count.html\n",
    "\n",
    "\n",
    "<details>\n",
    "<summary> **SUGGESTED SOLUTIONS** - <em>one line per cell</em></summary>\n",
    "    <p> \n",
    "            \n",
    "    ```python\n",
    "    df_xas.set_index([\"temperature\",'sx','phase'])\n",
    "    \n",
    "    df_xas.set_index([\"temperature\",'sx','phase']).count(level='temperature')\n",
    "    ```\n",
    "</p>\n",
    "</details> "
   ]
  },
  {
   "cell_type": "code",
   "execution_count": null,
   "metadata": {},
   "outputs": [],
   "source": []
  },
  {
   "cell_type": "code",
   "execution_count": null,
   "metadata": {},
   "outputs": [],
   "source": []
  },
  {
   "cell_type": "code",
   "execution_count": null,
   "metadata": {},
   "outputs": [],
   "source": []
  },
  {
   "cell_type": "markdown",
   "metadata": {},
   "source": [
    "### How to  plot in meaningful ways without having to transcribe a single scan number (or `uid`)\n",
    "* group data https://pandas.pydata.org/pandas-docs/stable/reference/api/pandas.DataFrame.groupby.html\n",
    "* if you can count members, then\n",
    "    * <details>\n",
    "<summary> **SUGGESTED SOLUTIONS** - <em>ALL in ONE cell</em></summary>\n",
    "    <p> \n",
    "            \n",
    "    ```python\n",
    "    groups = df_xas.groupby([\"sx\",\"phase\"])\n",
    "    groups.count()\n",
    "    ```\n",
    "</p>\n",
    "</details> \n",
    "* you can extract `scan_id` (named by `escan_dict[\"scan\"]` or `header.start['scan_id']`)\n",
    "    * <details>\n",
    "<summary> **SUGGESTED SOLUTIONS** - <em>ALL in ONE cell</em></summary>\n",
    "    <p> \n",
    "            \n",
    "    ```python\n",
    "    for group, frame in groups:                  \n",
    "        print(group, frame[\"scan\"].tolist())      \n",
    "    ```\n",
    "</p>\n",
    "</details> "
   ]
  },
  {
   "cell_type": "code",
   "execution_count": null,
   "metadata": {},
   "outputs": [],
   "source": []
  },
  {
   "cell_type": "code",
   "execution_count": null,
   "metadata": {},
   "outputs": [],
   "source": []
  },
  {
   "cell_type": "code",
   "execution_count": null,
   "metadata": {},
   "outputs": [],
   "source": []
  },
  {
   "cell_type": "markdown",
   "metadata": {},
   "source": [
    "### Let's get plotting\n",
    "* if we use the flow control appoach above, things can get messy\n",
    "* first let's convert all that to a **list** of **tuples** consisting of a **list and tuple**\n",
    "    * <details>\n",
    "<summary> **SUGGESTED SOLUTIONS** - <em>ALL in ONE cell</em></summary>\n",
    "    <p> \n",
    "            \n",
    "    ```python\n",
    "        group_scans = [(frame[\"scan\"].tolist(), group) for group, frame in df_xas.groupby([\"sx\",\"phase\"])]\n",
    "    ```\n",
    "</p>\n",
    "</details> \n",
    "* then we will make an customized color and line style to group the data\n",
    "    * <details>\n",
    "<summary> **SUGGESTED SOLUTIONS** - <em>ALL in ONE cell</em></summary>\n",
    "    <p> \n",
    "            \n",
    "    ```python\n",
    "    roi = '4'\n",
    "\n",
    "    colors = cycle(cm.get_cmap('viridis')(np.linspace(0, 1, len(group_scans))))\n",
    "\n",
    "    fig, ax = plt.subplots(figsize=(5,5))\n",
    "    for scans, group in group_scans:\n",
    "        sx, pol = group\n",
    "        hhs = db[scans]\n",
    "        _, roi_x, _, roi_y, _  = get_fccd_roi(h, roi)\n",
    "        color=next(colors)\n",
    "        lines = cycle(['-','-.','--'])\n",
    "        markers = cycle([None,])#'o','*','.'])\n",
    "        for h in hhs:\n",
    "            t=h.table() \n",
    "            x = t.pgm_energy_setpoint\n",
    "            y = t['fccd_stats'+ roi +'_total']\n",
    "            ax.plot(x, y, color=color, linestyle = next(lines), marker=next(markers),\n",
    "                     label=f'{h[\"start\"][\"scan_id\"]},  {sx:.3f}mm  L{pol}')\n",
    "    ax.legend(bbox_to_anchor=(1.1, 1.05))                \n",
    "    ax.set(xlabel=x.name,ylabel=f'{y.name} = ')\n",
    "    ax.grid(True)\n",
    "    ```\n",
    "    \n",
    "</p>\n",
    "</details> "
   ]
  },
  {
   "cell_type": "code",
   "execution_count": null,
   "metadata": {},
   "outputs": [],
   "source": []
  },
  {
   "cell_type": "code",
   "execution_count": null,
   "metadata": {},
   "outputs": [],
   "source": [
    "roi = '4'\n",
    "\n",
    "colors = cycle(cm.get_cmap('viridis')(np.linspace(0, 1, len(group_scans))))\n",
    "\n",
    "\n",
    "fig, ax = plt.subplots(figsize=(5,5))\n",
    "for scans, group in group_scans:\n",
    "    sx, pol = group\n",
    "    hhs = db[scans]\n",
    "    _, roi_x, _, roi_y, _  = get_fccd_roi(h, roi)\n",
    "    color=next(colors)\n",
    "    lines = cycle(['-','-.','--'])\n",
    "    for h in hhs:\n",
    "        t=h.table() \n",
    "        x = t.pgm_energy_setpoint\n",
    "        y = t['fccd_stats'+ roi +'_total']\n",
    "        ax.plot(x, y, color=color, linestyle = next(lines),\n",
    "                 label=f'{h[\"start\"][\"scan_id\"]},  {sx:.3f}mm  L{pol}')\n",
    "ax.legend(bbox_to_anchor=(1.1, 1.05))                \n",
    "ax.set(xlabel=x.name,ylabel=f'{y.name} = ')\n",
    "ax.grid(True)"
   ]
  },
  {
   "cell_type": "markdown",
   "metadata": {},
   "source": [
    "### Want to customize further\n",
    "* Pick a different colormap\n",
    "https://matplotlib.org/stable/gallery/color/colormap_reference.html<br> \n",
    "**SEMI-amerature TIP**: valid maps found in Exception of `cm.get_cmap('')`\n",
    "* Extract roi size again and include in y-axis or legend\n",
    "* Constrain limits\n",
    "* Try to compare with detector slit roi (`roi = '1'`)\n",
    "* Plot specific sx positions with 3 spectra\n",
    "* Normalize spectra with assumption all have same off-resonance response\n"
   ]
  },
  {
   "cell_type": "code",
   "execution_count": null,
   "metadata": {},
   "outputs": [],
   "source": [
    "## WORKSPACE for above\n"
   ]
  },
  {
   "cell_type": "markdown",
   "metadata": {},
   "source": [
    "### Want to try reduce further?\n",
    "* Make subplot for each unique condition: **\"same\"** position, temperature, and polarization\n",
    "* Eliminate \"bad\" scans\n",
    "* Reduce data dimentionality further by averaging\n"
   ]
  },
  {
   "cell_type": "code",
   "execution_count": null,
   "metadata": {},
   "outputs": [],
   "source": [
    "# WORKSPACE for above"
   ]
  },
  {
   "cell_type": "code",
   "execution_count": null,
   "metadata": {},
   "outputs": [],
   "source": []
  },
  {
   "cell_type": "code",
   "execution_count": null,
   "metadata": {},
   "outputs": [],
   "source": []
  },
  {
   "cell_type": "code",
   "execution_count": null,
   "metadata": {},
   "outputs": [],
   "source": []
  },
  {
   "cell_type": "markdown",
   "metadata": {},
   "source": [
    "### But why do this \n",
    "<details>\n",
    "<summary><em>instead of just keeping track of a few scan numbers?</em></summary>\n",
    "    <p> \n",
    "Humans try to collect data efficiently when the parameter space is large!\n",
    "<img src=\"source_material/shark.png\", ,width=\"500\">\n",
    "        \n",
    "\n",
    "</p>\n",
    "</details> \n"
   ]
  },
  {
   "cell_type": "code",
   "execution_count": null,
   "metadata": {},
   "outputs": [],
   "source": []
  },
  {
   "cell_type": "markdown",
   "metadata": {},
   "source": [
    "# Take aways\n",
    "* Learning a little `pandas` is a good thing\n",
    "* Investing time in generalized functions / notebooks makes \n",
    "    * future experiments easier\n",
    "    * advanced data reduction and analysis more efficient \n",
    "* This workflow concept well to any beamline using `bluesky`\n",
    "* `jupyter` can be a full analysis and book-keeping platform \n",
    "    - generate \"reports\" to host on \"the cloud\" \n",
    "    - keep track of bad scans, notes on data or analysis"
   ]
  },
  {
   "cell_type": "markdown",
   "metadata": {},
   "source": [
    "### What if I get stuck\n",
    "* easy ways to investigate document data per scan\n",
    "* 4 main parts: start, stop, descriptors, stream (aka `.table()`)\n",
    "```python\n",
    "db[-1].start                   # shows rendering of the start document\n",
    "list(db[-1].start)             # easy way to quickly investigate available keys\n",
    "db[-1].table()                 # shows rendering of primary data stream - the most important\n",
    "list(db[-1].table('baseline')) # easy way to quickly investigate available keys\n",
    "db[-1].stream_names            # easy way to quickly investigate available argument values for .table()\n",
    "```"
   ]
  },
  {
   "cell_type": "code",
   "execution_count": null,
   "metadata": {},
   "outputs": [],
   "source": []
  },
  {
   "cell_type": "markdown",
   "metadata": {},
   "source": [
    "### CHALLENGE:\n",
    "* Investigate these and plot in a meaningful way.  \n",
    "* Note the code block is equivalent to the very first \"data collection and plotting\" cell\n",
    "    - ADDED\n",
    "        - ```deltas = round(tb['tardis_delta'].mean())```\n",
    "    - REMOVE\n",
    "        - dictionary and pandas DataFrame creation\n",
    "        - ```if purpose[0:3]=='xas': ```\n",
    "* Try to target a specific purpose\n",
    "    - This can be done with any keys in the start document"
   ]
  },
  {
   "cell_type": "code",
   "execution_count": null,
   "metadata": {},
   "outputs": [],
   "source": []
  },
  {
   "cell_type": "code",
   "execution_count": null,
   "metadata": {},
   "outputs": [],
   "source": [
    "hhs = db(since = '2021-03-20 14:50:00', until = '2021-03-20 23:50:00', motors='pgm_energy', detectors = 'fccd')\n",
    "\n",
    "roi = str(1)\n",
    "scans = []\n",
    "\n",
    "fig, axes = plt.subplots(figsize=(5,5))\n",
    "for h in hhs:\n",
    "    purpose = h.start.get('purpose','?')\n",
    "    scan = h.start['scan_id']\n",
    "    t = h.table()\n",
    "    tb = h.table(\"baseline\")\n",
    "    sx = round(tb['sx'].mean(),3)\n",
    "    deltas = round(tb['tardis_delta'].mean())             #### ADDED THIS LINE COMPARED TO OUR INTIALS CELL\n",
    "    Tsample = tb['stemp_temp_B_T'].mean()   \n",
    "    phase = round(abs(tb['epu2_phase_readback'].mean()),0)\n",
    "    _, roi_x, _, roi_y, _ = get_fccd_roi(h, roi)\n",
    "    if phase < 20: phase ='H'\n",
    "    else: phase = 'V'; \n",
    "    x = t.pgm_energy_setpoint\n",
    "    y = t['fccd_stats'+roi+'_total']\n",
    "    axes.plot(x, y, label = f'{Tsample:.0f}K roi{roi} {roi_x:>3}x{roi_y:>3} pix$^2$ {phase} {sx:.2f}mm S{scan}')\n",
    "\n",
    "    scans.append(h.start['scan_id'])\n",
    "\n",
    "axes.legend(bbox_to_anchor=(1.1, 1.05))"
   ]
  },
  {
   "cell_type": "code",
   "execution_count": null,
   "metadata": {},
   "outputs": [],
   "source": []
  },
  {
   "cell_type": "code",
   "execution_count": null,
   "metadata": {},
   "outputs": [],
   "source": [
    "%matplotlib widget"
   ]
  },
  {
   "cell_type": "code",
   "execution_count": null,
   "metadata": {},
   "outputs": [],
   "source": [
    "%matplotlib inline"
   ]
  }
 ],
 "metadata": {
  "kernelspec": {
   "display_name": "Python 3",
   "language": "python",
   "name": "python3"
  },
  "language_info": {
   "codemirror_mode": {
    "name": "ipython",
    "version": 3
   },
   "file_extension": ".py",
   "mimetype": "text/x-python",
   "name": "python",
   "nbconvert_exporter": "python",
   "pygments_lexer": "ipython3",
   "version": "3.6.6"
  }
 },
 "nbformat": 4,
 "nbformat_minor": 2
}
